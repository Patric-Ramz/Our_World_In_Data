{
  "nbformat": 4,
  "nbformat_minor": 0,
  "metadata": {
    "colab": {
      "provenance": [],
      "authorship_tag": "ABX9TyNfhSZLzj5uCtGet5+VkcLr",
      "include_colab_link": true
    },
    "kernelspec": {
      "name": "python3",
      "display_name": "Python 3"
    },
    "language_info": {
      "name": "python"
    }
  },
  "cells": [
    {
      "cell_type": "markdown",
      "metadata": {
        "id": "view-in-github",
        "colab_type": "text"
      },
      "source": [
        "<a href=\"https://colab.research.google.com/github/Patric-Ramz/Our_World_In_Data/blob/main/Data_Analysis_Exercise/Our_World_In_Data.ipynb\" target=\"_parent\"><img src=\"https://colab.research.google.com/assets/colab-badge.svg\" alt=\"Open In Colab\"/></a>"
      ]
    },
    {
      "cell_type": "markdown",
      "source": [
        "Explaination"
      ],
      "metadata": {
        "id": "PA7ZdL0LbC_p"
      }
    },
    {
      "cell_type": "code",
      "source": [
        "import pandas as pd\n",
        "\n",
        "from google.colab import drive\n",
        "drive.mount('/content/drive')\n",
        "\n",
        "pop_data = pd.read_csv('/content/drive/My Drive/Our_World_In_Data/unpopulation_dataportal_20240303010227.csv')\n",
        "COPD_data = pd.read_csv('/content/drive/My Drive/Our_World_In_Data/age_specific_death_rates_of_COPD.csv')\n",
        "who_std_pop = pd.read_csv('/content/drive/My Drive/Our_World_In_Data/who_std_pop.csv')"
      ],
      "metadata": {
        "colab": {
          "base_uri": "https://localhost:8080/"
        },
        "id": "ssMQjGO7bGYs",
        "outputId": "53fcf3e1-e02a-461a-bea7-a68889f2e184"
      },
      "execution_count": null,
      "outputs": [
        {
          "output_type": "stream",
          "name": "stdout",
          "text": [
            "Drive already mounted at /content/drive; to attempt to forcibly remount, call drive.mount(\"/content/drive\", force_remount=True).\n"
          ]
        }
      ]
    },
    {
      "cell_type": "markdown",
      "source": [
        "CDR"
      ],
      "metadata": {
        "id": "dSXjXsDAu_01"
      }
    },
    {
      "cell_type": "code",
      "source": [
        "## Creating the analytical tables\n",
        "selected_columns = pop_data[['Location', 'Age', 'Value']]\n",
        "\n",
        "#splitting USA and UG\n",
        "US_data = selected_columns[selected_columns['Location'] == 'United States of America'] # United States\n",
        "Uganda_data = selected_columns[selected_columns['Location'] == 'Uganda'] # Uganda\n",
        "\n",
        "## Aggregating the ages above 85\n",
        "# USA\n",
        "sum_value = US_data['Value'].iloc[-4:].sum() # Sum the values in the last 4 rows\n",
        "US_data = US_data.iloc[:-4] # Remove the last 4 rows\n",
        "US_data.loc[len(US_data)] = ['United States of America', '85+', sum_value] # Change the value in the \"Age\" column to \"85+\"\n",
        "\n",
        "# UG\n",
        "UG_sum_value = Uganda_data['Value'].iloc[-4:].sum() # Sum the values in the last 4 rows\n",
        "Uganda_data = Uganda_data.iloc[:-4] # Remove the last 4 rows\n",
        "Uganda_data.loc[len(Uganda_data)] = ['Uganda', '85+', UG_sum_value] # Change the value in the \"Age\" column to \"85+\"\n",
        "\n",
        "## number of deaths\n",
        "# USA\n",
        "us_values = US_data['Value'].values # Convert data to NumPy arrays\n",
        "copd_death_rate = COPD_data['Death rate, United States, 2019'].values # Convert data to NumPy arrays\n",
        "number_of_deaths = us_values * copd_death_rate * 1/100000 # Perform element-wise multiplication\n",
        "US_data['number of deaths'] = number_of_deaths # Add the result back to the DataFrame\n",
        "\n",
        "# UG\n",
        "ug_values = Uganda_data['Value'].values # Convert data to NumPy arrays\n",
        "copd_death_rate_ug = COPD_data['Death rate, Uganda, 2019'].values # Convert data to NumPy arrays\n",
        "number_of_deaths_ug = ug_values * copd_death_rate_ug * 1/100000 # Perform element-wise multiplication\n",
        "Uganda_data['number of deaths'] = number_of_deaths_ug # Add the result back to the DataFrame\n",
        "\n",
        "## CDR\n",
        "# USA\n",
        "total_deaths = US_data['number of deaths'].sum()\n",
        "population_value = US_data['Value'].sum()\n",
        "\n",
        "# Calculate the Crude Death Rate (CDR)\n",
        "CDR = total_deaths / population_value * 100000\n",
        "sentence = f\"The CDR for United States of America is {CDR:.4f} per 100,000 people.\"\n",
        "print(sentence)\n",
        "\n",
        "# UG\n",
        "total_deaths = Uganda_data['number of deaths'].sum()\n",
        "population_value = Uganda_data['Value'].sum()\n",
        "\n",
        "# Calculate the Crude Death Rate (CDR)\n",
        "CDR = total_deaths / population_value * 100000\n",
        "\n",
        "sentence = f\"The CDR for The Uganda is {CDR:.4f} per 100,000 people.\"\n",
        "print(sentence)"
      ],
      "metadata": {
        "id": "OFoflIuSb1lO",
        "colab": {
          "base_uri": "https://localhost:8080/"
        },
        "outputId": "426c0434-bbfd-4834-a9d9-7038eab3b1a0"
      },
      "execution_count": null,
      "outputs": [
        {
          "output_type": "stream",
          "name": "stdout",
          "text": [
            "The CDR for United States of America is 57.2361 per 100,000 people.\n",
            "The CDR for The Uganda is 5.8162 per 100,000 people.\n"
          ]
        }
      ]
    },
    {
      "cell_type": "markdown",
      "source": [
        "DSR"
      ],
      "metadata": {
        "id": "DLR-zzyO9pY8"
      }
    },
    {
      "cell_type": "code",
      "source": [
        "who_std_pop = who_std_pop[['Age Group', 'WHO']] # selecting relevant columns\n",
        "\n",
        "who_std_pop['Proportions'] = who_std_pop['WHO'] / 100 # converting % to decimal\n",
        "\n",
        "# Convert data to NumPy arrays\n",
        "proportions = who_std_pop['Proportions'].values\n",
        "usa_death_rates = COPD_data['Death rate, United States, 2019'].values\n",
        "uganda_death_rates = COPD_data['Death rate, Uganda, 2019'].values"
      ],
      "metadata": {
        "id": "QXDjKRNV8Op9"
      },
      "execution_count": null,
      "outputs": []
    },
    {
      "cell_type": "code",
      "source": [
        "#usa\n",
        "usa_ASDR = proportions * usa_death_rates\n",
        "US_data['ASDR'] = usa_ASDR\n",
        "\n",
        "usa_age_standardized_death_rate = US_data['ASDR'].sum()\n",
        "sentence = f\"The age-standardized death rate for The United States is {usa_age_standardized_death_rate:.4f} per 100,000 people.\"\n",
        "print(sentence)\n",
        "\n",
        "#ug\n",
        "\n",
        "ug_ASDR = proportions * uganda_death_rates\n",
        "Uganda_data['ASDR'] = ug_ASDR\n",
        "\n",
        "ug_age_standardized_death_rate = Uganda_data['ASDR'].sum()\n",
        "sentence = f\"The age-standardized death rate for Uganda is {ug_age_standardized_death_rate:.4f} per 100,000 people.\"\n",
        "print(sentence)"
      ],
      "metadata": {
        "colab": {
          "base_uri": "https://localhost:8080/"
        },
        "id": "18p0NJV79jAU",
        "outputId": "9ad0624d-bf4b-4373-940a-326b8c226ed1"
      },
      "execution_count": null,
      "outputs": [
        {
          "output_type": "stream",
          "name": "stdout",
          "text": [
            "The age-standardized death rate for The United States is 28.4374 per 100,000 people.\n",
            "The age-standardized death rate for Uganda is 28.6889 per 100,000 people.\n"
          ]
        }
      ]
    }
  ]
}