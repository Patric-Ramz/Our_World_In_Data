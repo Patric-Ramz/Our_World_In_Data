{
  "nbformat": 4,
  "nbformat_minor": 0,
  "metadata": {
    "colab": {
      "provenance": [],
      "authorship_tag": "ABX9TyO/yfkdwf0Qt+vKBk3msfZ1",
      "include_colab_link": true
    },
    "kernelspec": {
      "name": "python3",
      "display_name": "Python 3"
    },
    "language_info": {
      "name": "python"
    }
  },
  "cells": [
    {
      "cell_type": "markdown",
      "metadata": {
        "id": "view-in-github",
        "colab_type": "text"
      },
      "source": [
        "<a href=\"https://colab.research.google.com/github/Patric-Ramz/Our_World_In_Data/blob/main/Our_World_In_Data.ipynb\" target=\"_parent\"><img src=\"https://colab.research.google.com/assets/colab-badge.svg\" alt=\"Open In Colab\"/></a>"
      ]
    },
    {
      "cell_type": "markdown",
      "source": [
        "# **Junior Data Scientist application**\n",
        "\n",
        "The following code shows the procedure followed to calculate the crude death rate and age-standardized death rate for Uganda and the United States of America. The two death rates are calculated on age-specific death rates from chronic obstructive pulmonary disease (COPD) in Uganda and the United States.\n",
        "\n",
        "The crude death rate is a ratio showing the number of deaths in a year divided by the total population. The age-standardized death rate takes the crude death rate and adjusts it to reflect what the death rate would be if the countries being compared had a standardized population distribution. The population distribution matters because age can be a comfounding factor when comparing death rates.\n",
        "\n",
        "*   The population data used to calculate the death rates are sourced from the UN World Population Prospects (2022) — Population Estimates 1950-2021\n",
        "*   The standardized population used to calculate the age-standardized death rates is sourced from table 1 of Age standardization of rates: a new WHO standard\n",
        "\n",
        "The formula used to calculate the crude death rate for each country is:\n",
        "$$\n",
        "$$\n",
        "$$\n",
        "CDR = \\frac{\\sum_{i} (d_i \\times p_i)}{\\sum_{i} p_i}\n",
        "$$\n",
        "\n",
        "Where: $$\n",
        "d_i = \\text{age-specific death rate in group i}\n",
        "$$\n",
        "$$\n",
        "p_i = \\text{mid year population in group i}\n",
        "$$\n",
        "$$\n",
        "$$\n",
        "\n",
        "the formula used to calculate the age-standardized death rate for each country is:\n",
        "$$\n",
        "$$\n",
        "$$\n",
        "ASDR = \\frac{\\sum_{i} (w_i \\times p_i \\times d_i)} {\\sum_{i} (w_i \\times p_i)}\n",
        "$$\n",
        "\n",
        "Where: $$\n",
        "w_i = \\text{proportion of the standard population in age group i}\n",
        "$$\n",
        "$$\n",
        "p_i = \\text{mid year population in group i}\n",
        "$$\n",
        "$$\n",
        "d_i = \\text{age-specific death rate in group i}\n",
        "$$\n",
        "$$\n",
        "$$\n",
        "$$\n",
        "$$\n",
        "\n",
        "The assumption made in calculating the respective death rates are:\n",
        "\n",
        "\n",
        "\n",
        "*   Mid-year population is a sufficient estimator for total population\n",
        "*   The crude death rate assumes the size of the population remains constant throughout the year\n",
        "*   The age-standardized death rate assumes that the age structure of the standard population remains stable over time.\n",
        "*  The calculations rely on the quality and accuracy of the underlying data\n",
        "\n",
        "\n",
        "\n",
        "\n",
        "\n"
      ],
      "metadata": {
        "id": "PA7ZdL0LbC_p"
      }
    },
    {
      "cell_type": "code",
      "source": [
        "import pandas as pd\n",
        "\n",
        "from google.colab import drive\n",
        "drive.mount('/content/drive') # Mounting my google drive to my google colab\n",
        "\n",
        "population_data = pd.read_csv('/content/drive/My Drive/Our_World_In_Data/unpopulation_dataportal_20240303010227.csv') # Importing the UN population data\n",
        "COPD_data = pd.read_csv('/content/drive/My Drive/Our_World_In_Data/age_specific_death_rates_of_COPD.csv') # Importing the age-specific death rates of COPD\n",
        "who_std_pop = pd.read_csv('/content/drive/My Drive/Our_World_In_Data/who_std_pop.csv') # Importing the WHO Standard Population"
      ],
      "metadata": {
        "colab": {
          "base_uri": "https://localhost:8080/"
        },
        "id": "ssMQjGO7bGYs",
        "outputId": "2b9cda83-c6d3-4071-ccdf-35e1a265dc4c"
      },
      "execution_count": 11,
      "outputs": [
        {
          "output_type": "stream",
          "name": "stdout",
          "text": [
            "Drive already mounted at /content/drive; to attempt to forcibly remount, call drive.mount(\"/content/drive\", force_remount=True).\n"
          ]
        }
      ]
    },
    {
      "cell_type": "markdown",
      "source": [
        "# **Preparing the data**"
      ],
      "metadata": {
        "id": "mEaAnJfCyvGb"
      }
    },
    {
      "cell_type": "code",
      "source": [
        "selected_columns = population_data[['Location', 'Age', 'Value']] # Selecting relevant columns from the population data\n",
        "who_std_pop = who_std_pop[['Age Group', 'WHO']] # selecting relevant columns\n",
        "who_std_pop['Proportions'] = who_std_pop['WHO'] / 100 # converting % to decimal\n",
        "\n",
        "# Convert data to NumPy arrays\n",
        "proportions = who_std_pop['Proportions'].values\n",
        "usa_population = US_data['Value'].values\n",
        "ug_population = Uganda_data['Value'].values\n",
        "usa_death_rates = COPD_data['Death rate, United States, 2019'].values\n",
        "uganda_death_rates = COPD_data['Death rate, Uganda, 2019'].values\n",
        "copd_death_rate_us = COPD_data['Death rate, United States, 2019'].values\n",
        "copd_death_rate_ug = COPD_data['Death rate, Uganda, 2019'].values\n",
        "\n",
        "#splitting USA and Uganda\n",
        "US_data = selected_columns[selected_columns['Location'] == 'United States of America'] # United States\n",
        "Uganda_data = selected_columns[selected_columns['Location'] == 'Uganda'] # Uganda\n",
        "\n",
        "# Aggregating the ages above 85 for the USA\n",
        "sum_value = US_data['Value'].iloc[-4:].sum() # Sum the values in the last 4 rows\n",
        "US_data = US_data.iloc[:-4] # Remove the last 4 rows\n",
        "US_data.loc[len(US_data)] = ['United States of America', '85+', sum_value] # Change the value in the \"Age\" column to \"85+\"\n",
        "\n",
        "# Aggregating the ages above 85 for Uganda\n",
        "UG_sum_value = Uganda_data['Value'].iloc[-4:].sum() # Sum the values in the last 4 rows\n",
        "Uganda_data = Uganda_data.iloc[:-4] # Remove the last 4 rows\n",
        "Uganda_data.loc[len(Uganda_data)] = ['Uganda', '85+', UG_sum_value] # Change the value in the \"Age\" column to \"85+\""
      ],
      "metadata": {
        "id": "mBxuQD6fyW7t"
      },
      "execution_count": 14,
      "outputs": []
    },
    {
      "cell_type": "markdown",
      "source": [
        "# **Crude Death Rate**"
      ],
      "metadata": {
        "id": "dSXjXsDAu_01"
      }
    },
    {
      "cell_type": "code",
      "source": [
        "# Calculating the number of deaths for the USA\n",
        "number_of_deaths = usa_population * copd_death_rate_us * 1/100000 # Perform element-wise multiplication\n",
        "US_data['number of deaths'] = number_of_deaths # Add the result back to the DataFrame\n",
        "\n",
        "# Calculating the number of deaths for Uganda\n",
        "number_of_deaths_ug = ug_population * copd_death_rate_ug * 1/100000 # Perform element-wise multiplication\n",
        "Uganda_data['number of deaths'] = number_of_deaths_ug # Add the result back to the DataFrame\n",
        "\n",
        "# Calculating the CDR for the USA\n",
        "total_deaths_US = US_data['number of deaths'].sum()\n",
        "population_value = US_data['Value'].sum()\n",
        "\n",
        "CDR = total_deaths_US / population_value * 100000\n",
        "\n",
        "sentence = f\"The CDR for United States of America is {CDR:.1f} per 100,000 people.\"\n",
        "print(sentence)\n",
        "\n",
        "# Calculating the CDR for Uganda\n",
        "total_deaths_UG = Uganda_data['number of deaths'].sum()\n",
        "population_value = Uganda_data['Value'].sum()\n",
        "\n",
        "CDR = total_deaths_UG / population_value * 100000\n",
        "\n",
        "sentence = f\"The CDR for The Uganda is {CDR:.1f} per 100,000 people.\"\n",
        "print(sentence)"
      ],
      "metadata": {
        "id": "OFoflIuSb1lO",
        "colab": {
          "base_uri": "https://localhost:8080/"
        },
        "outputId": "fca0f954-b1f6-4f72-980f-4c8c693933b3"
      },
      "execution_count": 15,
      "outputs": [
        {
          "output_type": "stream",
          "name": "stdout",
          "text": [
            "The CDR for United States of America is 57.2 per 100,000 people.\n",
            "The CDR for The Uganda is 5.8 per 100,000 people.\n"
          ]
        }
      ]
    },
    {
      "cell_type": "markdown",
      "source": [
        "# **Age-Standardized Death Rates**"
      ],
      "metadata": {
        "id": "DLR-zzyO9pY8"
      }
    },
    {
      "cell_type": "code",
      "source": [
        "#usa\n",
        "usa_ASDR = proportions * usa_death_rates * usa_population\n",
        "US_data['ASDR'] = usa_ASDR\n",
        "standard_population_us = proportions * usa_population\n",
        "US_data['Std_pop'] = standard_population_us\n",
        "\n",
        "usa_age_standardized_death_rate = US_data['ASDR'].sum() / US_data['Std_pop'].sum()\n",
        "sentence = f\"The age-standardized death rate for The United States is {usa_age_standardized_death_rate:.1f} per 100,000 people.\"\n",
        "print(sentence)\n",
        "\n",
        "#ug\n",
        "ug_ASDR = proportions * uganda_death_rates * ug_population\n",
        "Uganda_data['ASDR'] = ug_ASDR\n",
        "standard_population_ug = proportions * ug_population\n",
        "Uganda_data['Std_pop'] = standard_population_ug\n",
        "\n",
        "ug_age_standardized_death_rate = Uganda_data['ASDR'].sum() / Uganda_data['Std_pop'].sum()\n",
        "sentence = f\"The age-standardized death rate for Uganda is {ug_age_standardized_death_rate:.1f} per 100,000 people.\"\n",
        "print(sentence)"
      ],
      "metadata": {
        "colab": {
          "base_uri": "https://localhost:8080/"
        },
        "id": "18p0NJV79jAU",
        "outputId": "8c10d7ba-adaf-4f47-ac5a-331f3a551160"
      },
      "execution_count": 10,
      "outputs": [
        {
          "output_type": "stream",
          "name": "stdout",
          "text": [
            "The age-standardized death rate for The United States is 16.5 per 100,000 people.\n",
            "The age-standardized death rate for Uganda is 2.2 per 100,000 people.\n"
          ]
        }
      ]
    }
  ]
}